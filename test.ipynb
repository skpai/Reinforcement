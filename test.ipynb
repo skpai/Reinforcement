{
 "cells": [
  {
   "cell_type": "code",
   "execution_count": 1,
   "metadata": {},
   "outputs": [],
   "source": [
    "import numpy as np\n",
    "from matplotlib import pyplot as plt\n",
    "from terrain import *\n",
    "import random\n",
    "from prospect import *"
   ]
  },
  {
   "cell_type": "code",
   "execution_count": 2,
   "metadata": {},
   "outputs": [],
   "source": [
    "terrain = Terrain()\n",
    "agent = Agent(terrain)"
   ]
  },
  {
   "cell_type": "code",
   "execution_count": 3,
   "metadata": {},
   "outputs": [
    {
     "name": "stdout",
     "output_type": "stream",
     "text": [
      "None\n"
     ]
    }
   ],
   "source": [
    "agent.initialize_agent()"
   ]
  },
  {
   "cell_type": "code",
   "execution_count": 7,
   "metadata": {},
   "outputs": [],
   "source": [
    "agent.get_random_position()"
   ]
  },
  {
   "cell_type": "code",
   "execution_count": 5,
   "metadata": {},
   "outputs": [
    {
     "data": {
      "text/plain": [
       "[(-5.0, -5.0),\n",
       " (-4.8, -4.8),\n",
       " (-4.6, -4.6),\n",
       " (-4.4, -4.4),\n",
       " (-4.2, -4.2),\n",
       " (-4.0, -4.0),\n",
       " (-3.8, -3.8),\n",
       " (-3.5999999999999996, -3.5999999999999996),\n",
       " (-3.4, -3.4),\n",
       " (-3.2, -3.2),\n",
       " (-3.0, -3.0),\n",
       " (-2.8, -2.8),\n",
       " (-2.5999999999999996, -2.5999999999999996),\n",
       " (-2.4, -2.4),\n",
       " (-2.1999999999999997, -2.1999999999999997),\n",
       " (-2.0, -2.0),\n",
       " (-1.7999999999999998, -1.7999999999999998),\n",
       " (-1.5999999999999996, -1.5999999999999996),\n",
       " (-1.4, -1.4),\n",
       " (-1.1999999999999997, -1.1999999999999997),\n",
       " (-1.0, -1.0),\n",
       " (-0.7999999999999998, -0.7999999999999998),\n",
       " (-0.5999999999999996, -0.5999999999999996),\n",
       " (-0.39999999999999947, -0.39999999999999947),\n",
       " (-0.1999999999999993, -0.1999999999999993),\n",
       " (0.0, 0.0),\n",
       " (0.20000000000000018, 0.20000000000000018),\n",
       " (0.40000000000000036, 0.40000000000000036),\n",
       " (0.6000000000000005, 0.6000000000000005),\n",
       " (0.8000000000000007, 0.8000000000000007),\n",
       " (1.0, 1.0),\n",
       " (1.2000000000000002, 1.2000000000000002),\n",
       " (1.4000000000000004, 1.4000000000000004),\n",
       " (1.6000000000000005, 1.6000000000000005),\n",
       " (1.8000000000000007, 1.8000000000000007),\n",
       " (2.0, 2.0),\n",
       " (2.2, 2.2),\n",
       " (2.4000000000000004, 2.4000000000000004),\n",
       " (2.6000000000000005, 2.6000000000000005),\n",
       " (2.8000000000000007, 2.8000000000000007),\n",
       " (3.0, 3.0),\n",
       " (3.200000000000001, 3.200000000000001),\n",
       " (3.4000000000000004, 3.4000000000000004),\n",
       " (3.5999999999999996, 3.5999999999999996),\n",
       " (3.8000000000000007, 3.8000000000000007),\n",
       " (4.0, 4.0),\n",
       " (4.200000000000001, 4.200000000000001),\n",
       " (4.4, 4.4),\n",
       " (4.600000000000001, 4.600000000000001),\n",
       " (4.800000000000001, 4.800000000000001),\n",
       " (5.0, 5.0)]"
      ]
     },
     "execution_count": 5,
     "metadata": {},
     "output_type": "execute_result"
    }
   ],
   "source": [
    "agent.all_points"
   ]
  },
  {
   "cell_type": "code",
   "execution_count": 9,
   "metadata": {},
   "outputs": [
    {
     "data": {
      "text/plain": [
       "(-0.1999999999999993, -0.1999999999999993)"
      ]
     },
     "execution_count": 9,
     "metadata": {},
     "output_type": "execute_result"
    }
   ],
   "source": [
    "agent.current_position"
   ]
  },
  {
   "cell_type": "code",
   "execution_count": 10,
   "metadata": {},
   "outputs": [],
   "source": [
    "x, y= agent.current_position"
   ]
  },
  {
   "cell_type": "code",
   "execution_count": 11,
   "metadata": {},
   "outputs": [
    {
     "data": {
      "text/plain": [
       "-0.1999999999999993"
      ]
     },
     "execution_count": 11,
     "metadata": {},
     "output_type": "execute_result"
    }
   ],
   "source": [
    "x"
   ]
  },
  {
   "cell_type": "code",
   "execution_count": 13,
   "metadata": {},
   "outputs": [
    {
     "name": "stdout",
     "output_type": "stream",
     "text": [
      "None\n"
     ]
    }
   ],
   "source": [
    "agent.initialize_agent()\n",
    "agent.current_position"
   ]
  },
  {
   "cell_type": "code",
   "execution_count": 17,
   "metadata": {},
   "outputs": [
    {
     "data": {
      "text/plain": [
       "(1.4000000000000004, 1.4000000000000004)"
      ]
     },
     "execution_count": 17,
     "metadata": {},
     "output_type": "execute_result"
    }
   ],
   "source": [
    "agent.get_random_position()\n",
    "agent.current_position"
   ]
  },
  {
   "cell_type": "code",
   "execution_count": 25,
   "metadata": {},
   "outputs": [
    {
     "data": {
      "text/plain": [
       "3.3000000000000003"
      ]
     },
     "execution_count": 25,
     "metadata": {},
     "output_type": "execute_result"
    }
   ],
   "source": [
    "(1+random.choice(list(np.linspace(-0.3, 0.3, 10))))*3"
   ]
  },
  {
   "cell_type": "code",
   "execution_count": 27,
   "metadata": {},
   "outputs": [
    {
     "data": {
      "text/plain": [
       "7.0710678118654755"
      ]
     },
     "execution_count": 27,
     "metadata": {},
     "output_type": "execute_result"
    }
   ],
   "source": [
    "50**0.5"
   ]
  },
  {
   "cell_type": "code",
   "execution_count": 33,
   "metadata": {},
   "outputs": [],
   "source": [
    "a=-1+np.zeros((3,3))"
   ]
  },
  {
   "cell_type": "code",
   "execution_count": 37,
   "metadata": {},
   "outputs": [
    {
     "ename": "ValueError",
     "evalue": "a must be 1-dimensional",
     "output_type": "error",
     "traceback": [
      "\u001b[0;31m---------------------------------------------------------------------------\u001b[0m",
      "\u001b[0;31mValueError\u001b[0m                                Traceback (most recent call last)",
      "\u001b[0;32m<ipython-input-37-5c5df7aeb67a>\u001b[0m in \u001b[0;36m<module>\u001b[0;34m\u001b[0m\n\u001b[1;32m      1\u001b[0m \u001b[0mx\u001b[0m\u001b[0;34m=\u001b[0m\u001b[0mnp\u001b[0m\u001b[0;34m.\u001b[0m\u001b[0margwhere\u001b[0m\u001b[0;34m(\u001b[0m\u001b[0ma\u001b[0m\u001b[0;34m==\u001b[0m\u001b[0;34m-\u001b[0m\u001b[0;36m1\u001b[0m\u001b[0;34m)\u001b[0m\u001b[0;34m\u001b[0m\u001b[0;34m\u001b[0m\u001b[0m\n\u001b[0;32m----> 2\u001b[0;31m \u001b[0mnp\u001b[0m\u001b[0;34m.\u001b[0m\u001b[0mrandom\u001b[0m\u001b[0;34m.\u001b[0m\u001b[0mchoice\u001b[0m\u001b[0;34m(\u001b[0m\u001b[0mx\u001b[0m\u001b[0;34m,\u001b[0m\u001b[0;36m1\u001b[0m\u001b[0;34m)\u001b[0m\u001b[0;34m\u001b[0m\u001b[0;34m\u001b[0m\u001b[0m\n\u001b[0m",
      "\u001b[0;32mmtrand.pyx\u001b[0m in \u001b[0;36mnumpy.random.mtrand.RandomState.choice\u001b[0;34m()\u001b[0m\n",
      "\u001b[0;31mValueError\u001b[0m: a must be 1-dimensional"
     ]
    }
   ],
   "source": [
    "x=np.argwhere(a==-1)\n",
    "np.random.choice(x,1)\n"
   ]
  },
  {
   "cell_type": "code",
   "execution_count": 35,
   "metadata": {},
   "outputs": [
    {
     "ename": "AttributeError",
     "evalue": "'numpy.float64' object has no attribute 'to_list'",
     "output_type": "error",
     "traceback": [
      "\u001b[0;31m---------------------------------------------------------------------------\u001b[0m",
      "\u001b[0;31mAttributeError\u001b[0m                            Traceback (most recent call last)",
      "\u001b[0;32m<ipython-input-35-fb266b931ae1>\u001b[0m in \u001b[0;36m<module>\u001b[0;34m\u001b[0m\n\u001b[0;32m----> 1\u001b[0;31m \u001b[0mx\u001b[0m\u001b[0;34m.\u001b[0m\u001b[0mto_list\u001b[0m\u001b[0;34m(\u001b[0m\u001b[0;34m)\u001b[0m\u001b[0;34m\u001b[0m\u001b[0;34m\u001b[0m\u001b[0m\n\u001b[0m",
      "\u001b[0;31mAttributeError\u001b[0m: 'numpy.float64' object has no attribute 'to_list'"
     ]
    }
   ],
   "source": [
    "x.to_list()"
   ]
  },
  {
   "cell_type": "code",
   "execution_count": 49,
   "metadata": {},
   "outputs": [
    {
     "data": {
      "text/plain": [
       "[(4, 5), (5, 4), (5, 6), (6, 5)]"
      ]
     },
     "execution_count": 49,
     "metadata": {},
     "output_type": "execute_result"
    }
   ],
   "source": [
    "def get_valid_positions(position):\n",
    "    x, y = position\n",
    "    xvals=x-1, x, x+1\n",
    "    yvals=y-1, y, y+1\n",
    "    valid=[(i,j) for i in xvals for j in yvals if (((i-x)*(j-y)==0)) and ((i,j)!=(x,y))]\n",
    "    return valid\n",
    "get_valid_positions((5,5))"
   ]
  },
  {
   "cell_type": "code",
   "execution_count": 47,
   "metadata": {},
   "outputs": [
    {
     "data": {
      "text/plain": [
       "[(4, 4), (4, 5), (4, 6), (5, 4), (5, 5), (5, 6), (6, 4), (6, 5), (6, 6)]"
      ]
     },
     "execution_count": 47,
     "metadata": {},
     "output_type": "execute_result"
    }
   ],
   "source": [
    "get_valid_positions((5,5))"
   ]
  },
  {
   "cell_type": "code",
   "execution_count": 59,
   "metadata": {},
   "outputs": [
    {
     "name": "stderr",
     "output_type": "stream",
     "text": [
      "<ipython-input-59-b30a14958045>:5: UserWarning: Matplotlib is currently using module://ipykernel.pylab.backend_inline, which is a non-GUI backend, so cannot show the figure.\n",
      "  fig.show()\n"
     ]
    },
    {
     "data": {
      "image/png": "[encoded data removed]",
      "text/plain": [
       "<Figure size 432x288 with 1 Axes>"
      ]
     },
     "metadata": {
      "needs_background": "light"
     },
     "output_type": "display_data"
    }
   ],
   "source": [
    "matrix=np.random.random((5,5))\n",
    "fig, ax= plt.subplots()\n",
    "ax.pcolor(matrix, edgecolors='w', linewidths=2)\n",
    "ax.scatter(3-0.5,3-0.5, s=400,c='b' )\n",
    "fig.show()"
   ]
  },
  {
   "cell_type": "code",
   "execution_count": null,
   "metadata": {},
   "outputs": [],
   "source": [
    "\n",
    "def SARSA(env, lr=0.01, num_episodes=10000, eps=0.3, gamma=0.95):\n",
    "    nA = env.action_space.n\n",
    "    nS = env.observation_space.n\n",
    "\n",
    "    Q = np.zeros((nS, nA))\n",
    "    games_reward = []\n",
    "    test_rewards = []\n",
    "\n",
    "    for ep in range(num_episodes):\n",
    "        state = env.reset()\n",
    "        done = False\n",
    "        tot_rew = 0\n",
    "\n",
    "\n",
    "        action = eps_greedy(Q, state, eps) \n",
    "\n",
    "        while not done:\n",
    "            next_state, rew, done, _ = env.step(action) \n",
    "\n",
    "            # choose the next action (needed for the SARSA update)\n",
    "            next_action = eps_greedy(Q, next_state, eps) \n",
    "            # SARSA update\n",
    "            Q[state][action] = Q[state][action] + lr*(rew + gamma*Q[next_state][next_action] - Q[state][action])\n",
    "\n",
    "            state = next_state\n",
    "            action = next_action\n",
    "            tot_rew += rew\n",
    "            if done:\n",
    "                games_reward.append(tot_rew)\n",
    "\n",
    "        # Test the policy every 300 episodes and print the results\n",
    "        if (ep % 300) == 0:\n",
    "            test_rew = run_episodes(env, Q, 1000)\n",
    "            print(\"Episode:{:5d}  Eps:{:2.4f}  Rew:{:2.4f}\".format(ep, eps, test_rew))\n",
    "            test_rewards.append(test_rew)"
   ]
  },
  {
   "cell_type": "code",
   "execution_count": null,
   "metadata": {},
   "outputs": [],
   "source": [
    "#Defining the different parameters\n",
    "epsilon = 0.9\n",
    "total_episodes = 10000\n",
    "max_steps = 100\n",
    "alpha = 0.85\n",
    "gamma = 0.95\n",
    " \n",
    "#Initializing the Q-matrix\n",
    "Q = np.zeros((env.observation_space.n, env.action_space.n))\n",
    "\n",
    "#Function to choose the next action\n",
    "def choose_action(state):\n",
    "    action=0\n",
    "    if np.random.uniform(0, 1) < epsilon:\n",
    "        action = env.action_space.sample()\n",
    "    else:\n",
    "        action = np.argmax(Q[state, :])\n",
    "    return action\n",
    " \n",
    "#Function to learn the Q-value\n",
    "def update(state, state2, reward, action, action2):\n",
    "    predict = Q[state, action]\n",
    "    target = reward + gamma * Q[state2, action2]\n",
    "    Q[state, action] = Q[state, action] + alpha * (target - predict)\n",
    "\n",
    "#Initializing the reward\n",
    "reward=0\n",
    " \n",
    "# Starting the SARSA learning\n",
    "for episode in range(total_episodes):\n",
    "    t = 0\n",
    "    state1 = env.reset()\n",
    "    action1 = choose_action(state1)\n",
    " \n",
    "    while t < max_steps:\n",
    "        #Visualizing the training\n",
    "        env.render()\n",
    "         \n",
    "        #Getting the next state\n",
    "        state2, reward, done, info = env.step(action1)\n",
    " \n",
    "        #Choosing the next action\n",
    "        action2 = choose_action(state2)\n",
    "         \n",
    "        #Learning the Q-value\n",
    "        update(state1, state2, reward, action1, action2)\n",
    " \n",
    "        state1 = state2\n",
    "        action1 = action2\n",
    "         \n",
    "        #Updating the respective vaLues\n",
    "        t += 1\n",
    "        reward += 1\n",
    "         \n",
    "        #If at the end of learning process\n",
    "        if done:\n",
    "            break\n",
    "\n"
   ]
  },
  {
   "cell_type": "code",
   "execution_count": 60,
   "metadata": {},
   "outputs": [],
   "source": [
    "class QLearn:\n",
    "    def __init__(self, actions, epsilon=0.1, alpha=0.2, gamma=0.9):\n",
    "        self.q = {}\n",
    "\n",
    "        self.epsilon = epsilon  # exploration constant\n",
    "        self.alpha = alpha      # discount constant\n",
    "        self.gamma = gamma\n",
    "        self.actions = actions\n",
    "\n",
    "    def getQ(self, state, action):\n",
    "        return self.q.get((state, action), 0.0)\n",
    "        # return self.q.get((state, action), 1.0)\n",
    "\n",
    "    def learnQ(self, state, action, reward, value):\n",
    "        '''\n",
    "        Q-learning:        \n",
    "            Q(s, a) += alpha * (reward(s,a) + max(Q(s') - Q(s,a))\n",
    "        '''\n",
    "        oldv = self.q.get((state, action), None)\n",
    "        if oldv is None:\n",
    "            self.q[(state, action)] = reward\n",
    "        else:\n",
    "            self.q[(state, action)] = oldv + self.alpha * (value - oldv)\n",
    "\n",
    "    def chooseAction(self, state):\n",
    "        if random.random() < self.epsilon:\n",
    "            action = random.choice(self.actions)\n",
    "        else:\n",
    "            q = [self.getQ(state, a) for a in self.actions]\n",
    "            maxQ = max(q)\n",
    "            count = q.count(maxQ)\n",
    "            # In case there're several state-action max values \n",
    "            # we select a random one among them\n",
    "            if count > 1:\n",
    "                best = [i for i in range(len(self.actions)) if q[i] == maxQ]\n",
    "                i = random.choice(best)\n",
    "            else:\n",
    "                i = q.index(maxQ)\n",
    "\n",
    "            action = self.actions[i]\n",
    "        return action\n",
    "\n",
    "    def learn(self, state1, action1, reward, state2):\n",
    "        maxqnew = max([self.getQ(state2, a) for a in self.actions])\n",
    "        self.learnQ(state1, action1, reward, reward + self.gamma*maxqnew)\n",
    "\n",
    "import math\n",
    "def ff(f,n):\n",
    "    fs = \"{:f}\".format(f)\n",
    "    if len(fs) < n:\n",
    "        return (\"{:\"+n+\"s}\").format(fs)\n",
    "    else:\n",
    "        return fs[:n]\n",
    "\n",
    "  \n",
    "\n"
   ]
  },
  {
   "cell_type": "code",
   "execution_count": null,
   "metadata": {},
   "outputs": [],
   "source": [
    "\n",
    "q = {}\n",
    "\n",
    "epsilon = epsilon  # exploration constant\n",
    "alpha = alpha      # discount constant\n",
    "gamma = gamma\n",
    "actions = actions\n",
    "\n",
    "def getQ(state, action):\n",
    "    return q.get((state, action), 0.0)\n",
    "    # return q.get((state, action), 1.0)\n",
    "\n",
    "def learnQ(state, action, reward, value):\n",
    "    '''\n",
    "    Q-learning:        \n",
    "        Q(s, a) += alpha * (reward(s,a) + max(Q(s') - Q(s,a))\n",
    "    '''\n",
    "    oldv = q.get((state, action), None)\n",
    "    if oldv is None:\n",
    "        q[(state, action)] = reward\n",
    "    else:\n",
    "        q[(state, action)] = oldv + alpha * (value - oldv)\n",
    "\n",
    "def chooseAction(state):\n",
    "    if random.random() < epsilon:\n",
    "        action = random.choice(actions)\n",
    "    else:\n",
    "        q = [getQ(state, a) for a in actions]\n",
    "        maxQ = max(q)\n",
    "        count = q.count(maxQ)\n",
    "        # In case there're several state-action max values \n",
    "        # we select a random one among them\n",
    "        if count > 1:\n",
    "            best = [i for i in range(len(actions)) if q[i] == maxQ]\n",
    "            i = random.choice(best)\n",
    "        else:\n",
    "            i = q.index(maxQ)\n",
    "\n",
    "        action = actions[i]\n",
    "    return action\n",
    "\n",
    "def learn(state1, action1, reward, state2):\n",
    "    maxqnew = max([getQ(state2, a) for a in actions])\n",
    "    learnQ(state1, action1, reward, reward + gamma*maxqnew)\n",
    "\n",
    "\n",
    "\n",
    "\n"
   ]
  },
  {
   "cell_type": "code",
   "execution_count": null,
   "metadata": {},
   "outputs": [],
   "source": [
    "# Hyperparameters\n",
    "alpha = 0.1\n",
    "gamma = 0.6\n",
    "epsilon = 0.1\n",
    "\n",
    "# For plotting metrics\n",
    "all_epochs = []\n",
    "all_penalties = []\n",
    "\n",
    "for i in range(1, 100001):\n",
    "    state = env.reset()\n",
    "\n",
    "    epochs, penalties, reward, = 0, 0, 0\n",
    "    done = False\n",
    "    \n",
    "    while not done:\n",
    "        if random.uniform(0, 1) < epsilon:\n",
    "            action = env.action_space.sample() # Explore action space\n",
    "        else:\n",
    "            action = np.argmax(q_table[state]) # Exploit learned values\n",
    "\n",
    "        next_state, reward, done, info = env.step(action) \n",
    "        \n",
    "        old_value = q_table[state, action]\n",
    "        next_max = np.max(q_table[next_state])\n",
    "        \n",
    "        new_value = (1 - alpha) * old_value + alpha * (reward + gamma * next_max)\n",
    "        q_table[state, action] = new_value\n",
    "\n",
    "        if reward == -10:\n",
    "            penalties += 1\n",
    "\n",
    "        state = next_state\n",
    "        epochs += 1\n",
    "        \n",
    "    if i % 100 == 0:\n",
    "        clear_output(wait=True)\n",
    "        print(f\"Episode: {i}\")\n",
    "\n",
    "print(\"Training finished.\\n\")\n"
   ]
  }
 ],
 "metadata": {
  "interpreter": {
   "hash": "8fbac483a4a1edeb8f7db3ca98d3cb42b3995d9dd792bf420e1e81a47d25d7f2"
  },
  "kernelspec": {
   "display_name": "Python 3.8.5 ('keras_gpu')",
   "language": "python",
   "name": "python3"
  },
  "language_info": {
   "codemirror_mode": {
    "name": "ipython",
    "version": 3
   },
   "file_extension": ".py",
   "mimetype": "text/x-python",
   "name": "python",
   "nbconvert_exporter": "python",
   "pygments_lexer": "ipython3",
   "version": "3.8.5"
  },
  "orig_nbformat": 4
 },
 "nbformat": 4,
 "nbformat_minor": 2
}
